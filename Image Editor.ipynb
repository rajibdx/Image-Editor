{
 "cells": [
  {
   "cell_type": "code",
   "execution_count": null,
   "id": "7622b2a3-8bd3-4bee-bc71-552396827afc",
   "metadata": {},
   "outputs": [],
   "source": []
  }
 ],
 "metadata": {
  "kernelspec": {
   "display_name": "",
   "name": ""
  },
  "language_info": {
   "name": ""
  }
 },
 "nbformat": 4,
 "nbformat_minor": 5
}
